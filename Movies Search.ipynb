{
 "cells": [
  {
   "cell_type": "code",
   "execution_count": 1,
   "id": "38cd216b-1816-4430-9fe1-297e03817386",
   "metadata": {},
   "outputs": [],
   "source": [
    "import pandas as pd\n",
    "import numpy as np\n",
    "import seaborn as sns\n",
    "import json\n",
    "from elasticsearch import Elasticsearch\n",
    "from elasticsearch import helpers\n",
    "from ipywidgets import interact\n",
    "import ipywidgets as widgets\n",
    "from IPython.display import display\n",
    "%matplotlib inline"
   ]
  },
  {
   "cell_type": "code",
   "execution_count": 2,
   "id": "051694b9-6d34-4c89-ba2c-838f8a7f0c10",
   "metadata": {},
   "outputs": [
    {
     "data": {
      "text/html": [
       "<div>\n",
       "<style scoped>\n",
       "    .dataframe tbody tr th:only-of-type {\n",
       "        vertical-align: middle;\n",
       "    }\n",
       "\n",
       "    .dataframe tbody tr th {\n",
       "        vertical-align: top;\n",
       "    }\n",
       "\n",
       "    .dataframe thead th {\n",
       "        text-align: right;\n",
       "    }\n",
       "</style>\n",
       "<table border=\"1\" class=\"dataframe\">\n",
       "  <thead>\n",
       "    <tr style=\"text-align: right;\">\n",
       "      <th></th>\n",
       "      <th>imdb_title_id</th>\n",
       "      <th>title</th>\n",
       "      <th>original_title</th>\n",
       "      <th>year</th>\n",
       "      <th>date_published</th>\n",
       "      <th>genre</th>\n",
       "      <th>duration</th>\n",
       "      <th>country</th>\n",
       "      <th>language</th>\n",
       "      <th>director</th>\n",
       "      <th>...</th>\n",
       "      <th>actors</th>\n",
       "      <th>description</th>\n",
       "      <th>avg_vote</th>\n",
       "      <th>votes</th>\n",
       "      <th>budget</th>\n",
       "      <th>usa_gross_income</th>\n",
       "      <th>worlwide_gross_income</th>\n",
       "      <th>metascore</th>\n",
       "      <th>reviews_from_users</th>\n",
       "      <th>reviews_from_critics</th>\n",
       "    </tr>\n",
       "  </thead>\n",
       "  <tbody>\n",
       "    <tr>\n",
       "      <th>0</th>\n",
       "      <td>tt0000009</td>\n",
       "      <td>Miss Jerry</td>\n",
       "      <td>Miss Jerry</td>\n",
       "      <td>1894</td>\n",
       "      <td>1894-10-09</td>\n",
       "      <td>Romance</td>\n",
       "      <td>45</td>\n",
       "      <td>USA</td>\n",
       "      <td>None</td>\n",
       "      <td>Alexander Black</td>\n",
       "      <td>...</td>\n",
       "      <td>Blanche Bayliss, William Courtenay, Chauncey D...</td>\n",
       "      <td>The adventures of a female reporter in the 1890s.</td>\n",
       "      <td>5.9</td>\n",
       "      <td>154</td>\n",
       "      <td>NaN</td>\n",
       "      <td>NaN</td>\n",
       "      <td>NaN</td>\n",
       "      <td>NaN</td>\n",
       "      <td>1.0</td>\n",
       "      <td>2.0</td>\n",
       "    </tr>\n",
       "    <tr>\n",
       "      <th>1</th>\n",
       "      <td>tt0000574</td>\n",
       "      <td>The Story of the Kelly Gang</td>\n",
       "      <td>The Story of the Kelly Gang</td>\n",
       "      <td>1906</td>\n",
       "      <td>1906-12-26</td>\n",
       "      <td>Biography, Crime, Drama</td>\n",
       "      <td>70</td>\n",
       "      <td>Australia</td>\n",
       "      <td>None</td>\n",
       "      <td>Charles Tait</td>\n",
       "      <td>...</td>\n",
       "      <td>Elizabeth Tait, John Tait, Norman Campbell, Be...</td>\n",
       "      <td>True story of notorious Australian outlaw Ned ...</td>\n",
       "      <td>6.1</td>\n",
       "      <td>589</td>\n",
       "      <td>$ 2250</td>\n",
       "      <td>NaN</td>\n",
       "      <td>NaN</td>\n",
       "      <td>NaN</td>\n",
       "      <td>7.0</td>\n",
       "      <td>7.0</td>\n",
       "    </tr>\n",
       "    <tr>\n",
       "      <th>2</th>\n",
       "      <td>tt0001892</td>\n",
       "      <td>Den sorte drøm</td>\n",
       "      <td>Den sorte drøm</td>\n",
       "      <td>1911</td>\n",
       "      <td>1911-08-19</td>\n",
       "      <td>Drama</td>\n",
       "      <td>53</td>\n",
       "      <td>Germany, Denmark</td>\n",
       "      <td>NaN</td>\n",
       "      <td>Urban Gad</td>\n",
       "      <td>...</td>\n",
       "      <td>Asta Nielsen, Valdemar Psilander, Gunnar Helse...</td>\n",
       "      <td>Two men of high rank are both wooing the beaut...</td>\n",
       "      <td>5.8</td>\n",
       "      <td>188</td>\n",
       "      <td>NaN</td>\n",
       "      <td>NaN</td>\n",
       "      <td>NaN</td>\n",
       "      <td>NaN</td>\n",
       "      <td>5.0</td>\n",
       "      <td>2.0</td>\n",
       "    </tr>\n",
       "    <tr>\n",
       "      <th>3</th>\n",
       "      <td>tt0002101</td>\n",
       "      <td>Cleopatra</td>\n",
       "      <td>Cleopatra</td>\n",
       "      <td>1912</td>\n",
       "      <td>1912-11-13</td>\n",
       "      <td>Drama, History</td>\n",
       "      <td>100</td>\n",
       "      <td>USA</td>\n",
       "      <td>English</td>\n",
       "      <td>Charles L. Gaskill</td>\n",
       "      <td>...</td>\n",
       "      <td>Helen Gardner, Pearl Sindelar, Miss Fielding, ...</td>\n",
       "      <td>The fabled queen of Egypt's affair with Roman ...</td>\n",
       "      <td>5.2</td>\n",
       "      <td>446</td>\n",
       "      <td>$ 45000</td>\n",
       "      <td>NaN</td>\n",
       "      <td>NaN</td>\n",
       "      <td>NaN</td>\n",
       "      <td>25.0</td>\n",
       "      <td>3.0</td>\n",
       "    </tr>\n",
       "    <tr>\n",
       "      <th>4</th>\n",
       "      <td>tt0002130</td>\n",
       "      <td>L'Inferno</td>\n",
       "      <td>L'Inferno</td>\n",
       "      <td>1911</td>\n",
       "      <td>1911-03-06</td>\n",
       "      <td>Adventure, Drama, Fantasy</td>\n",
       "      <td>68</td>\n",
       "      <td>Italy</td>\n",
       "      <td>Italian</td>\n",
       "      <td>Francesco Bertolini, Adolfo Padovan</td>\n",
       "      <td>...</td>\n",
       "      <td>Salvatore Papa, Arturo Pirovano, Giuseppe de L...</td>\n",
       "      <td>Loosely adapted from Dante's Divine Comedy and...</td>\n",
       "      <td>7.0</td>\n",
       "      <td>2237</td>\n",
       "      <td>NaN</td>\n",
       "      <td>NaN</td>\n",
       "      <td>NaN</td>\n",
       "      <td>NaN</td>\n",
       "      <td>31.0</td>\n",
       "      <td>14.0</td>\n",
       "    </tr>\n",
       "  </tbody>\n",
       "</table>\n",
       "<p>5 rows × 22 columns</p>\n",
       "</div>"
      ],
      "text/plain": [
       "  imdb_title_id                        title               original_title  \\\n",
       "0     tt0000009                   Miss Jerry                   Miss Jerry   \n",
       "1     tt0000574  The Story of the Kelly Gang  The Story of the Kelly Gang   \n",
       "2     tt0001892               Den sorte drøm               Den sorte drøm   \n",
       "3     tt0002101                    Cleopatra                    Cleopatra   \n",
       "4     tt0002130                    L'Inferno                    L'Inferno   \n",
       "\n",
       "   year date_published                      genre  duration           country  \\\n",
       "0  1894     1894-10-09                    Romance        45               USA   \n",
       "1  1906     1906-12-26    Biography, Crime, Drama        70         Australia   \n",
       "2  1911     1911-08-19                      Drama        53  Germany, Denmark   \n",
       "3  1912     1912-11-13             Drama, History       100               USA   \n",
       "4  1911     1911-03-06  Adventure, Drama, Fantasy        68             Italy   \n",
       "\n",
       "  language                             director  ...  \\\n",
       "0     None                      Alexander Black  ...   \n",
       "1     None                         Charles Tait  ...   \n",
       "2      NaN                            Urban Gad  ...   \n",
       "3  English                   Charles L. Gaskill  ...   \n",
       "4  Italian  Francesco Bertolini, Adolfo Padovan  ...   \n",
       "\n",
       "                                              actors  \\\n",
       "0  Blanche Bayliss, William Courtenay, Chauncey D...   \n",
       "1  Elizabeth Tait, John Tait, Norman Campbell, Be...   \n",
       "2  Asta Nielsen, Valdemar Psilander, Gunnar Helse...   \n",
       "3  Helen Gardner, Pearl Sindelar, Miss Fielding, ...   \n",
       "4  Salvatore Papa, Arturo Pirovano, Giuseppe de L...   \n",
       "\n",
       "                                         description avg_vote votes   budget  \\\n",
       "0  The adventures of a female reporter in the 1890s.      5.9   154      NaN   \n",
       "1  True story of notorious Australian outlaw Ned ...      6.1   589   $ 2250   \n",
       "2  Two men of high rank are both wooing the beaut...      5.8   188      NaN   \n",
       "3  The fabled queen of Egypt's affair with Roman ...      5.2   446  $ 45000   \n",
       "4  Loosely adapted from Dante's Divine Comedy and...      7.0  2237      NaN   \n",
       "\n",
       "   usa_gross_income worlwide_gross_income metascore reviews_from_users  \\\n",
       "0               NaN                   NaN       NaN                1.0   \n",
       "1               NaN                   NaN       NaN                7.0   \n",
       "2               NaN                   NaN       NaN                5.0   \n",
       "3               NaN                   NaN       NaN               25.0   \n",
       "4               NaN                   NaN       NaN               31.0   \n",
       "\n",
       "   reviews_from_critics  \n",
       "0                   2.0  \n",
       "1                   7.0  \n",
       "2                   2.0  \n",
       "3                   3.0  \n",
       "4                  14.0  \n",
       "\n",
       "[5 rows x 22 columns]"
      ]
     },
     "execution_count": 2,
     "metadata": {},
     "output_type": "execute_result"
    }
   ],
   "source": [
    "movies = pd.read_csv('IMDB/IMDb movies.csv', low_memory=False)\n",
    "\n",
    "movies.head()"
   ]
  },
  {
   "cell_type": "code",
   "execution_count": 3,
   "id": "adea3e85-28d9-49b7-8a33-3bcd400d5eca",
   "metadata": {},
   "outputs": [
    {
     "name": "stdout",
     "output_type": "stream",
     "text": [
      "['Any', 'Action', 'Adventure', 'Animation', 'Biography', 'Comedy', 'Crime', 'Documentary', 'Drama', 'Family', 'Fantasy', 'History', 'Horror', 'Music', 'Musical', 'Mystery', 'Romance', 'Sci-Fi', 'Sport', 'Thriller', 'War', 'Western']\n"
     ]
    }
   ],
   "source": [
    "genre = []\n",
    "for genr in movies['genre'].value_counts().index:\n",
    "    if len(genr.split()) == 1:\n",
    "        genre.append(genr)\n",
    "genre.sort()\n",
    "genre.insert(0,'Any')\n",
    "print(genre)"
   ]
  },
  {
   "cell_type": "code",
   "execution_count": 4,
   "id": "25d6f6e9",
   "metadata": {},
   "outputs": [
    {
     "data": {
      "text/plain": [
       "English                                         35939\n",
       "French                                           3903\n",
       "Spanish                                          2831\n",
       "Japanese                                         2826\n",
       "Italian                                          2731\n",
       "                                                ...  \n",
       "English, German, Portuguese, Turkish, French        1\n",
       "English, French, Italian, Arabic                    1\n",
       "English, Japanese, Icelandic                        1\n",
       "English, French, Greek, Italian                     1\n",
       "English, Polish, Russian, German                    1\n",
       "Name: language, Length: 4377, dtype: int64"
      ]
     },
     "execution_count": 4,
     "metadata": {},
     "output_type": "execute_result"
    }
   ],
   "source": [
    "movies['language'].value_counts()"
   ]
  },
  {
   "cell_type": "code",
   "execution_count": 5,
   "id": "342eec99-3aac-4fb0-8ae0-b34009abad10",
   "metadata": {},
   "outputs": [
    {
     "data": {
      "text/plain": [
       "imdb_title_id                0\n",
       "title                        0\n",
       "original_title               0\n",
       "year                         0\n",
       "date_published               0\n",
       "genre                        0\n",
       "duration                     0\n",
       "country                     64\n",
       "language                   833\n",
       "director                    87\n",
       "writer                    1572\n",
       "production_company        4455\n",
       "actors                      69\n",
       "description               2115\n",
       "avg_vote                     0\n",
       "votes                        0\n",
       "budget                   62145\n",
       "usa_gross_income         70529\n",
       "worlwide_gross_income    54839\n",
       "metascore                72550\n",
       "reviews_from_users        7597\n",
       "reviews_from_critics     11797\n",
       "dtype: int64"
      ]
     },
     "execution_count": 5,
     "metadata": {},
     "output_type": "execute_result"
    }
   ],
   "source": [
    "movies.isna().sum()"
   ]
  },
  {
   "cell_type": "code",
   "execution_count": 6,
   "id": "dadd0a87-8fa5-43c6-ad1d-ca31b8a04b69",
   "metadata": {},
   "outputs": [
    {
     "data": {
      "text/plain": [
       "<AxesSubplot:>"
      ]
     },
     "execution_count": 6,
     "metadata": {},
     "output_type": "execute_result"
    },
    {
     "data": {
      "image/png": "[encoded data removed]",
      "text/plain": [
       "<Figure size 432x288 with 1 Axes>"
      ]
     },
     "metadata": {
      "needs_background": "light"
     },
     "output_type": "display_data"
    }
   ],
   "source": [
    "sns.heatmap(movies.isna(), yticklabels=False, cbar=False, cmap='viridis')"
   ]
  },
  {
   "cell_type": "code",
   "execution_count": 7,
   "id": "94237a10-b61e-444b-98cb-b14617f5a73d",
   "metadata": {},
   "outputs": [],
   "source": [
    "movies['language'].replace(np.nan, 'Missing', inplace=True)\n",
    "movies['country'].replace(np.nan, 'Missing', inplace=True)"
   ]
  },
  {
   "cell_type": "code",
   "execution_count": 8,
   "id": "b1a121f4-cec1-4fd8-a7ec-35a12d9a13fe",
   "metadata": {},
   "outputs": [
    {
     "data": {
      "text/plain": [
       "<AxesSubplot:>"
      ]
     },
     "execution_count": 8,
     "metadata": {},
     "output_type": "execute_result"
    },
    {
     "data": {
      "image/png": "[encoded data removed]",
      "text/plain": [
       "<Figure size 432x288 with 1 Axes>"
      ]
     },
     "metadata": {
      "needs_background": "light"
     },
     "output_type": "display_data"
    }
   ],
   "source": [
    "sns.heatmap(movies.isna(), yticklabels=False, cbar=False, cmap='viridis')"
   ]
  },
  {
   "cell_type": "code",
   "execution_count": 9,
   "id": "0cc2f12e-76fd-428c-8236-5c6a8341ee4b",
   "metadata": {},
   "outputs": [
    {
     "data": {
      "text/plain": [
       "<seaborn.axisgrid.FacetGrid at 0x7fbc4115cb50>"
      ]
     },
     "execution_count": 9,
     "metadata": {},
     "output_type": "execute_result"
    },
    {
     "data": {
      "image/png": "[encoded data removed]",
      "text/plain": [
       "<Figure size 360x360 with 1 Axes>"
      ]
     },
     "metadata": {
      "needs_background": "light"
     },
     "output_type": "display_data"
    }
   ],
   "source": [
    "sns.displot(movies['avg_vote'], bins=10, kde=True)"
   ]
  },
  {
   "cell_type": "code",
   "execution_count": 10,
   "id": "e63f5700-eeee-4600-8c2f-50a93878e8c9",
   "metadata": {},
   "outputs": [
    {
     "data": {
      "text/html": [
       "<div>\n",
       "<style scoped>\n",
       "    .dataframe tbody tr th:only-of-type {\n",
       "        vertical-align: middle;\n",
       "    }\n",
       "\n",
       "    .dataframe tbody tr th {\n",
       "        vertical-align: top;\n",
       "    }\n",
       "\n",
       "    .dataframe thead th {\n",
       "        text-align: right;\n",
       "    }\n",
       "</style>\n",
       "<table border=\"1\" class=\"dataframe\">\n",
       "  <thead>\n",
       "    <tr style=\"text-align: right;\">\n",
       "      <th></th>\n",
       "      <th>imdb_title_id</th>\n",
       "      <th>title</th>\n",
       "      <th>original_title</th>\n",
       "      <th>year</th>\n",
       "      <th>date_published</th>\n",
       "      <th>genre</th>\n",
       "      <th>duration</th>\n",
       "      <th>country</th>\n",
       "      <th>language</th>\n",
       "      <th>director</th>\n",
       "      <th>...</th>\n",
       "      <th>actors</th>\n",
       "      <th>description</th>\n",
       "      <th>avg_vote</th>\n",
       "      <th>votes</th>\n",
       "      <th>budget</th>\n",
       "      <th>usa_gross_income</th>\n",
       "      <th>worlwide_gross_income</th>\n",
       "      <th>metascore</th>\n",
       "      <th>reviews_from_users</th>\n",
       "      <th>reviews_from_critics</th>\n",
       "    </tr>\n",
       "  </thead>\n",
       "  <tbody>\n",
       "    <tr>\n",
       "      <th>83917</th>\n",
       "      <td>tt8206668</td>\n",
       "      <td>Bad Education</td>\n",
       "      <td>Bad Education</td>\n",
       "      <td>2019</td>\n",
       "      <td>TV Movie 2019</td>\n",
       "      <td>Biography, Comedy, Crime</td>\n",
       "      <td>108</td>\n",
       "      <td>USA</td>\n",
       "      <td>English</td>\n",
       "      <td>Cory Finley</td>\n",
       "      <td>...</td>\n",
       "      <td>Hugh Jackman, Ray Romano, Welker White, Alliso...</td>\n",
       "      <td>The beloved superintendent of New York's Rosly...</td>\n",
       "      <td>7.1</td>\n",
       "      <td>23973</td>\n",
       "      <td>NaN</td>\n",
       "      <td>NaN</td>\n",
       "      <td>NaN</td>\n",
       "      <td>79.0</td>\n",
       "      <td>135.0</td>\n",
       "      <td>98.0</td>\n",
       "    </tr>\n",
       "  </tbody>\n",
       "</table>\n",
       "<p>1 rows × 22 columns</p>\n",
       "</div>"
      ],
      "text/plain": [
       "      imdb_title_id          title original_title  year date_published  \\\n",
       "83917     tt8206668  Bad Education  Bad Education  2019  TV Movie 2019   \n",
       "\n",
       "                          genre  duration country language     director  ...  \\\n",
       "83917  Biography, Comedy, Crime       108     USA  English  Cory Finley  ...   \n",
       "\n",
       "                                                  actors  \\\n",
       "83917  Hugh Jackman, Ray Romano, Welker White, Alliso...   \n",
       "\n",
       "                                             description avg_vote  votes  \\\n",
       "83917  The beloved superintendent of New York's Rosly...      7.1  23973   \n",
       "\n",
       "       budget  usa_gross_income worlwide_gross_income metascore  \\\n",
       "83917     NaN               NaN                   NaN      79.0   \n",
       "\n",
       "      reviews_from_users  reviews_from_critics  \n",
       "83917              135.0                  98.0  \n",
       "\n",
       "[1 rows x 22 columns]"
      ]
     },
     "execution_count": 10,
     "metadata": {},
     "output_type": "execute_result"
    }
   ],
   "source": [
    "filt = movies['imdb_title_id'] == 'tt8206668'\n",
    "movies.loc[filt, 'year'] = 2019\n",
    "\n",
    "movies.loc[filt]"
   ]
  },
  {
   "cell_type": "code",
   "execution_count": 11,
   "id": "9ff68070-2bbb-4b69-bc4c-e99e2485b481",
   "metadata": {},
   "outputs": [],
   "source": [
    "movies['year'] = movies['year'].astype(int)"
   ]
  },
  {
   "cell_type": "code",
   "execution_count": 12,
   "id": "3aa88e5e-d581-4d1c-929c-5c3027a50561",
   "metadata": {},
   "outputs": [
    {
     "data": {
      "text/plain": [
       "<seaborn.axisgrid.FacetGrid at 0x7fbc4d8d0e80>"
      ]
     },
     "execution_count": 12,
     "metadata": {},
     "output_type": "execute_result"
    },
    {
     "data": {
      "image/png": "[encoded data removed]",
      "text/plain": [
       "<Figure size 360x360 with 1 Axes>"
      ]
     },
     "metadata": {
      "needs_background": "light"
     },
     "output_type": "display_data"
    }
   ],
   "source": [
    "sns.displot(movies['year'], bins=20)"
   ]
  },
  {
   "cell_type": "code",
   "execution_count": 13,
   "id": "0c523753-1bd2-4fac-a351-d2c4b4e00cdf",
   "metadata": {},
   "outputs": [],
   "source": [
    "json_df = movies.to_dict('records')"
   ]
  },
  {
   "cell_type": "code",
   "execution_count": 14,
   "id": "c706e256-075d-4e92-9fe2-31e4dd1eb537",
   "metadata": {},
   "outputs": [
    {
     "data": {
      "text/plain": [
       "{'imdb_title_id': 'tt0000009',\n",
       " 'title': 'Miss Jerry',\n",
       " 'original_title': 'Miss Jerry',\n",
       " 'year': 1894,\n",
       " 'date_published': '1894-10-09',\n",
       " 'genre': 'Romance',\n",
       " 'duration': 45,\n",
       " 'country': 'USA',\n",
       " 'language': 'None',\n",
       " 'director': 'Alexander Black',\n",
       " 'writer': 'Alexander Black',\n",
       " 'production_company': 'Alexander Black Photoplays',\n",
       " 'actors': 'Blanche Bayliss, William Courtenay, Chauncey Depew',\n",
       " 'description': 'The adventures of a female reporter in the 1890s.',\n",
       " 'avg_vote': 5.9,\n",
       " 'votes': 154,\n",
       " 'budget': nan,\n",
       " 'usa_gross_income': nan,\n",
       " 'worlwide_gross_income': nan,\n",
       " 'metascore': nan,\n",
       " 'reviews_from_users': 1.0,\n",
       " 'reviews_from_critics': 2.0}"
      ]
     },
     "execution_count": 14,
     "metadata": {},
     "output_type": "execute_result"
    }
   ],
   "source": [
    "json_df[0]"
   ]
  },
  {
   "cell_type": "code",
   "execution_count": 15,
   "id": "0127ec60-c6a3-43dc-9fb8-da05b1ed1f71",
   "metadata": {},
   "outputs": [
    {
     "data": {
      "text/html": [
       "<div>\n",
       "<style scoped>\n",
       "    .dataframe tbody tr th:only-of-type {\n",
       "        vertical-align: middle;\n",
       "    }\n",
       "\n",
       "    .dataframe tbody tr th {\n",
       "        vertical-align: top;\n",
       "    }\n",
       "\n",
       "    .dataframe thead th {\n",
       "        text-align: right;\n",
       "    }\n",
       "</style>\n",
       "<table border=\"1\" class=\"dataframe\">\n",
       "  <thead>\n",
       "    <tr style=\"text-align: right;\">\n",
       "      <th></th>\n",
       "      <th>imdb_title_id</th>\n",
       "      <th>title</th>\n",
       "      <th>original_title</th>\n",
       "      <th>year</th>\n",
       "      <th>date_published</th>\n",
       "      <th>genre</th>\n",
       "      <th>duration</th>\n",
       "      <th>country</th>\n",
       "      <th>language</th>\n",
       "      <th>director</th>\n",
       "      <th>...</th>\n",
       "      <th>actors</th>\n",
       "      <th>description</th>\n",
       "      <th>avg_vote</th>\n",
       "      <th>votes</th>\n",
       "      <th>budget</th>\n",
       "      <th>usa_gross_income</th>\n",
       "      <th>worlwide_gross_income</th>\n",
       "      <th>metascore</th>\n",
       "      <th>reviews_from_users</th>\n",
       "      <th>reviews_from_critics</th>\n",
       "    </tr>\n",
       "  </thead>\n",
       "  <tbody>\n",
       "    <tr>\n",
       "      <th>83917</th>\n",
       "      <td>tt8206668</td>\n",
       "      <td>Bad Education</td>\n",
       "      <td>Bad Education</td>\n",
       "      <td>2019</td>\n",
       "      <td>TV Movie 2019</td>\n",
       "      <td>Biography, Comedy, Crime</td>\n",
       "      <td>108</td>\n",
       "      <td>USA</td>\n",
       "      <td>English</td>\n",
       "      <td>Cory Finley</td>\n",
       "      <td>...</td>\n",
       "      <td>Hugh Jackman, Ray Romano, Welker White, Alliso...</td>\n",
       "      <td>The beloved superintendent of New York's Rosly...</td>\n",
       "      <td>7.1</td>\n",
       "      <td>23973</td>\n",
       "      <td>NaN</td>\n",
       "      <td>NaN</td>\n",
       "      <td>NaN</td>\n",
       "      <td>79.0</td>\n",
       "      <td>135.0</td>\n",
       "      <td>98.0</td>\n",
       "    </tr>\n",
       "  </tbody>\n",
       "</table>\n",
       "<p>1 rows × 22 columns</p>\n",
       "</div>"
      ],
      "text/plain": [
       "      imdb_title_id          title original_title  year date_published  \\\n",
       "83917     tt8206668  Bad Education  Bad Education  2019  TV Movie 2019   \n",
       "\n",
       "                          genre  duration country language     director  ...  \\\n",
       "83917  Biography, Comedy, Crime       108     USA  English  Cory Finley  ...   \n",
       "\n",
       "                                                  actors  \\\n",
       "83917  Hugh Jackman, Ray Romano, Welker White, Alliso...   \n",
       "\n",
       "                                             description avg_vote  votes  \\\n",
       "83917  The beloved superintendent of New York's Rosly...      7.1  23973   \n",
       "\n",
       "       budget  usa_gross_income worlwide_gross_income metascore  \\\n",
       "83917     NaN               NaN                   NaN      79.0   \n",
       "\n",
       "      reviews_from_users  reviews_from_critics  \n",
       "83917              135.0                  98.0  \n",
       "\n",
       "[1 rows x 22 columns]"
      ]
     },
     "execution_count": 15,
     "metadata": {},
     "output_type": "execute_result"
    }
   ],
   "source": [
    "filt = movies['imdb_title_id'] == 'tt8206668'\n",
    "movies.loc[filt, 'year'] = 2019\n",
    "movies.loc[filt]"
   ]
  },
  {
   "cell_type": "code",
   "execution_count": 16,
   "id": "e1f136dd-13e1-4859-87e3-e26f77ad30ca",
   "metadata": {},
   "outputs": [
    {
     "data": {
      "text/plain": [
       "True"
      ]
     },
     "execution_count": 16,
     "metadata": {},
     "output_type": "execute_result"
    }
   ],
   "source": [
    "es = Elasticsearch(\"http://localhost:9200\")\n",
    "es.ping()"
   ]
  },
  {
   "cell_type": "code",
   "execution_count": 17,
   "id": "a7123ee8-0f45-49af-959a-b99f8ccf2472",
   "metadata": {},
   "outputs": [],
   "source": [
    "def es_format(data):\n",
    "    for record in data:\n",
    "        yield {\n",
    "            \"_index\": \"movies_engine\",\n",
    "            \"_id\": record['imdb_title_id'],\n",
    "            \"_source\": {\n",
    "                \"title\": record['title'],\n",
    "                \"releaseYear\": record['year'],\n",
    "                \"language\": record['language'],\n",
    "                \"genre\": record['genre'],\n",
    "                \"country\": record['country'],\n",
    "                \"score\": record['avg_vote']\n",
    "            }\n",
    "        }"
   ]
  },
  {
   "cell_type": "code",
   "execution_count": 18,
   "id": "5a86ebba-fd3b-4501-b842-c3d18201f724",
   "metadata": {},
   "outputs": [
    {
     "data": {
      "text/plain": [
       "{'acknowledged': True, 'shards_acknowledged': True, 'index': 'movies_engine'}"
      ]
     },
     "execution_count": 18,
     "metadata": {},
     "output_type": "execute_result"
    }
   ],
   "source": [
    "setting = {\n",
    "    \"number_of_shards\": 1,\n",
    "    \"number_of_replicas\": 0,\n",
    "    'analysis': {\n",
    "        \n",
    "        \"filter\":{\n",
    "            \"title_synonym\": {\n",
    "                \"type\": \"synonym\",\n",
    "                \"synonyms\": [\n",
    "                    \"inception => dream\"\n",
    "                ]\n",
    "            }\n",
    "        },\n",
    "        \n",
    "        \"tokenizer\": {\n",
    "            \"my_tokenizer\": {\n",
    "                \"type\": \"edge_ngram\",\n",
    "                \"min_gram\": 2,\n",
    "                \"max_gram\": 8,\n",
    "                \"token_chars\": [\"letter\", \"digit\"]\n",
    "            }\n",
    "        },\n",
    "        \n",
    "        'analyzer': {\n",
    "            'title_tokenizer': {\n",
    "                'type': 'custom',\n",
    "                'tokenizer': 'my_tokenizer',\n",
    "                \"filter\": [\n",
    "                    \"lowercase\",\n",
    "                    \"title_synonym\"\n",
    "                ]\n",
    "            },\n",
    "            \n",
    "        },\n",
    "        \n",
    "    }\n",
    "}\n",
    "\n",
    "mapping = {\n",
    "    \"properties\": {\n",
    "        \"releaseYear\": {\n",
    "            \"type\": \"date\",\n",
    "            \"format\": \"yyyy\"\n",
    "        },\n",
    "        \"title\": {\n",
    "            \"type\": \"text\",\n",
    "            \"analyzer\": \"title_tokenizer\"\n",
    "        },\n",
    "        \"genre\": {\n",
    "            \"type\": \"text\",\n",
    "            \"analyzer\": \"standard\"\n",
    "        },\n",
    "        \"score\": {\n",
    "            \"type\": \"byte\"\n",
    "        }\n",
    "    }\n",
    "}\n",
    "\n",
    "es.indices.delete(index='movies_engine', ignore=[400,404])\n",
    "es.indices.create(index='movies_engine',settings=setting, mappings=mapping, ignore=400)"
   ]
  },
  {
   "cell_type": "code",
   "execution_count": null,
   "id": "4008da0c-7325-4b25-9fa3-6f4c3e47d848",
   "metadata": {},
   "outputs": [],
   "source": [
    "helpers.bulk(es, es_format(json_df), ignore=[400,404])"
   ]
  },
  {
   "cell_type": "code",
   "execution_count": null,
   "id": "986eee22-f6ba-4630-9fd6-0e67965cac61",
   "metadata": {},
   "outputs": [],
   "source": [
    "print(json.dumps(es.indices.get_mapping(index='movies_engine'), indent=2))"
   ]
  },
  {
   "cell_type": "code",
   "execution_count": null,
   "id": "f1c2a5b9-2e1b-4a6a-bcd8-fa389565d76f",
   "metadata": {},
   "outputs": [],
   "source": [
    "def search(movie_name, bool_body):\n",
    "    querry_body = {\n",
    "        \"bool\": bool_body\n",
    "    }\n",
    "    \n",
    "    suggestion_body = {\n",
    "        \"my_suggestion\": {\n",
    "            \"text\": movie_name,\n",
    "            \"term\": {\n",
    "                \"field\": \"title\"\n",
    "            }\n",
    "        }\n",
    "    }\n",
    "    \n",
    "    return es.search(index='movies_engine', query=querry_body, suggest=suggestion_body,\n",
    "                     size=10, ignore=[400])"
   ]
  },
  {
   "cell_type": "code",
   "execution_count": null,
   "id": "7c9cd427-5e53-40c7-9a2d-0b0ab0571432",
   "metadata": {},
   "outputs": [],
   "source": [
    "def print_movies(data):\n",
    "    print(\"{0:^40} | {1:^8} | {2:^8} | {3:^37} | {4:^30}\".format(\"Title\", \"Year\", \"Rating\", \"Genre\", \"Language\", \"Rating\"))\n",
    "    print(\"-\"*130)\n",
    "    for obj in data['hits']['hits']:\n",
    "        print(\"{title:<40} | {releaseYear:^8} | {score:^8} | {genre:^37} | {language:^30}\".format(**obj['_source']))"
   ]
  },
  {
   "cell_type": "code",
   "execution_count": null,
   "id": "74967a64-825e-49c3-9b15-c6753c17126f",
   "metadata": {},
   "outputs": [],
   "source": [
    "def filtered_movies(Genre, rating, movie_name):\n",
    "    #Boolean querry body\n",
    "    movie_filter = {\n",
    "            \"must\": [\n",
    "                {\n",
    "                    \"match\": {\n",
    "                        \"title\": {\n",
    "                            \"query\": movie_name\n",
    "                        }\n",
    "                    }\n",
    "                }\n",
    "            ],\n",
    "            \"filter\": [],\n",
    "            \"should\": [\n",
    "                {\n",
    "                    \"match_phrase\": {\n",
    "                        \"title\": {\n",
    "                            \"query\": movie_name,\n",
    "                            \"slop\": 2\n",
    "                        }\n",
    "                    }\n",
    "                }\n",
    "            ]\n",
    "        }\n",
    "    \n",
    "    \n",
    "    if len(movie_name) == 0:\n",
    "        print(\"Search something to see results\")\n",
    "    else:\n",
    "        \n",
    "        if Genre != 'Any':\n",
    "            movie_filter['filter'].append({\"match\": {\"genre\": Genre}})\n",
    "        \n",
    "        if rating != 0:\n",
    "            movie_filter['filter'].append({\"range\": {\"score\": { \"gte\": rating }}})\n",
    "            \n",
    "        result = search(movie_name, movie_filter)\n",
    "        print_movies(result)"
   ]
  },
  {
   "cell_type": "code",
   "execution_count": null,
   "id": "9b9f35cd-14bb-4e8d-b7e6-beab723158d2",
   "metadata": {},
   "outputs": [],
   "source": [
    "# selected_genre = widgets.Dropdown(options=genre, value='Any', description='Genre')\n",
    "# display(selected_genre)\n",
    "\n",
    "interact(filtered_movies, \n",
    "         Genre=genre, \n",
    "         rating=widgets.IntSlider(min=0, max=10, value=0, step=1), \n",
    "         movie_name='',\n",
    "        )"
   ]
  },
  {
   "cell_type": "code",
   "execution_count": null,
   "id": "1c33e2a3-93ae-4e99-868d-0c1f3cf889a0",
   "metadata": {},
   "outputs": [],
   "source": []
  },
  {
   "cell_type": "code",
   "execution_count": null,
   "id": "e2c07c5d-e68d-40a3-b7a0-7526bf85e88e",
   "metadata": {},
   "outputs": [],
   "source": []
  },
  {
   "cell_type": "code",
   "execution_count": null,
   "id": "d8b8dd7d-273f-476d-95b7-0167bb52686d",
   "metadata": {},
   "outputs": [],
   "source": []
  }
 ],
 "metadata": {
  "kernelspec": {
   "display_name": "Python 3 (ipykernel)",
   "language": "python",
   "name": "python3"
  },
  "language_info": {
   "codemirror_mode": {
    "name": "ipython",
    "version": 3
   },
   "file_extension": ".py",
   "mimetype": "text/x-python",
   "name": "python",
   "nbconvert_exporter": "python",
   "pygments_lexer": "ipython3",
   "version": "3.9.7"
  }
 },
 "nbformat": 4,
 "nbformat_minor": 5
}
