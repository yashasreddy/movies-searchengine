{
 "cells": [
  {
   "cell_type": "code",
   "execution_count": 35,
   "id": "38cd216b-1816-4430-9fe1-297e03817386",
   "metadata": {},
   "outputs": [],
   "source": [
    "# Importing required libraries\n",
    "try:\n",
    "    import json, traceback, os, logging, re\n",
    "    import numpy as np\n",
    "    import pandas as pd\n",
    "    import matplotlib.pyplot as plt\n",
    "    from matplotlib.colors import LinearSegmentedColormap\n",
    "    import seaborn as sns\n",
    "    from elasticsearch import Elasticsearch, helpers\n",
    "    from ipywidgets import interact\n",
    "    import ipywidgets as widgets\n",
    "    from IPython.display import display\n",
    "except ImportError as ie:\n",
    "    print(ie)\n",
    "else:\n",
    "    # Setting up logging\n",
    "    logger = logging.getLogger(__name__)\n",
    "    logger.setLevel(logging.DEBUG) # Debug and above level\n",
    "\n",
    "    formatter = logging.Formatter('%(asctime)s:%(levelname)s:%(message)s')\n",
    "\n",
    "    # File handler\n",
    "    file_handler = logging.FileHandler('error.logs')\n",
    "    file_handler.setLevel(logging.ERROR)\n",
    "    file_handler.setFormatter(formatter)\n",
    "    logger.addHandler(file_handler)\n",
    "\n",
    "    # Print handler\n",
    "    stream_handler = logging.StreamHandler()\n",
    "    stream_handler.setLevel(logging.DEBUG)\n",
    "    stream_handler.setFormatter(formatter)\n",
    "    logger.addHandler(stream_handler)"
   ]
  },
  {
   "cell_type": "code",
   "execution_count": 2,
   "id": "051694b9-6d34-4c89-ba2c-838f8a7f0c10",
   "metadata": {},
   "outputs": [],
   "source": [
    "# Importing movie details from csv file\n",
    "project_dir = os.path.abspath(os.path.dirname(__name__))\n",
    "data_dir = os.path.join(project_dir, \"IMDB\")\n",
    "try:\n",
    "    movies = pd.read_csv(os.path.join(data_dir, \"IMDB movies.csv\"), low_memory=False)\n",
    "except FileNotFoundError as fn:\n",
    "    logger.error(f\"No file named \\'{os.path.basename(fn.filename)}\\'\"\n",
    "          f\"can be found at \\'{data_dir}\\'\")"
   ]
  },
  {
   "cell_type": "code",
   "execution_count": 3,
   "id": "342eec99-3aac-4fb0-8ae0-b34009abad10",
   "metadata": {},
   "outputs": [
    {
     "data": {
      "text/plain": [
       "imdb_title_id                0\n",
       "title                        0\n",
       "original_title               0\n",
       "year                         0\n",
       "date_published               0\n",
       "genre                        0\n",
       "duration                     0\n",
       "country                     64\n",
       "language                   833\n",
       "director                    87\n",
       "writer                    1572\n",
       "production_company        4455\n",
       "actors                      69\n",
       "description               2115\n",
       "avg_vote                     0\n",
       "votes                        0\n",
       "budget                   62145\n",
       "usa_gross_income         70529\n",
       "worlwide_gross_income    54839\n",
       "metascore                72550\n",
       "reviews_from_users        7597\n",
       "reviews_from_critics     11797\n",
       "dtype: int64"
      ]
     },
     "execution_count": 3,
     "metadata": {},
     "output_type": "execute_result"
    }
   ],
   "source": [
    "# Checking for empty values\n",
    "movies.isna().sum()"
   ]
  },
  {
   "cell_type": "code",
   "execution_count": 36,
   "id": "dadd0a87-8fa5-43c6-ad1d-ca31b8a04b69",
   "metadata": {},
   "outputs": [
    {
     "data": {
      "text/plain": [
       "<AxesSubplot:>"
      ]
     },
     "execution_count": 36,
     "metadata": {},
     "output_type": "execute_result"
    },
    {
     "data": {
      "image/png": "[encoded data removed]",
      "text/plain": [
       "<Figure size 432x288 with 1 Axes>"
      ]
     },
     "metadata": {
      "needs_background": "light"
     },
     "output_type": "display_data"
    }
   ],
   "source": [
    "# Visualising Empty values\n",
    "f, ax = plt.subplots(figsize=(8, 8))\n",
    "\n",
    "colors = [\"black\", \"White\"] \n",
    "cmap = LinearSegmentedColormap.from_list('Custom', colors, len(colors))\n",
    "\n",
    "sns.heatmap(movies.isna(), yticklabels=False, cbar=False,cmap='viridis')\n"
   ]
  },
  {
   "cell_type": "code",
   "execution_count": 17,
   "id": "9ff68070-2bbb-4b69-bc4c-e99e2485b481",
   "metadata": {},
   "outputs": [],
   "source": [
    "# Stripping strings from year column and converting it to int\n",
    "try:\n",
    "    movies['year'] = movies['year'].apply(lambda year: re.sub(r'\\D','',year)).astype(np.int64)\n",
    "    #movies['year'] = movies['year'].astype(int)\n",
    "except Exception as e:\n",
    "    print(e)"
   ]
  },
  {
   "cell_type": "code",
   "execution_count": 18,
   "id": "e7da4d87",
   "metadata": {},
   "outputs": [
    {
     "name": "stderr",
     "output_type": "stream",
     "text": [
      "2022-04-25 11:07:44,476:DEBUG:['Action', 'Adventure', 'Animation', 'Any', 'Biography', 'Comedy', 'Crime', 'Documentary', 'Drama', 'Family', 'Fantasy', 'History', 'Horror', 'Music', 'Musical', 'Mystery', 'Romance', 'Sci-Fi', 'Sport', 'Thriller', 'War', 'Western']\n"
     ]
    }
   ],
   "source": [
    "# Storing all unique genre in a list, with additional value, \"Any\"\n",
    "genre = ['Any', *[genr for genr in movies['genre'].unique() if len(genr.split()) == 1]]\n",
    "genre.sort()\n",
    "logger.debug(genre)"
   ]
  },
  {
   "cell_type": "code",
   "execution_count": 19,
   "id": "0c523753-1bd2-4fac-a351-d2c4b4e00cdf",
   "metadata": {},
   "outputs": [],
   "source": [
    "json_df = movies.to_dict('records')"
   ]
  },
  {
   "cell_type": "markdown",
   "id": "b5480872",
   "metadata": {},
   "source": [
    "## Elasticsearch"
   ]
  },
  {
   "cell_type": "code",
   "execution_count": 20,
   "id": "e1f136dd-13e1-4859-87e3-e26f77ad30ca",
   "metadata": {},
   "outputs": [
    {
     "data": {
      "text/plain": [
       "True"
      ]
     },
     "execution_count": 20,
     "metadata": {},
     "output_type": "execute_result"
    }
   ],
   "source": [
    "index = \"movies_engine\"\n",
    "es = Elasticsearch(\"http://localhost:9200\")\n",
    "es.ping()"
   ]
  },
  {
   "cell_type": "code",
   "execution_count": 21,
   "id": "a7123ee8-0f45-49af-959a-b99f8ccf2472",
   "metadata": {},
   "outputs": [],
   "source": [
    "# Formating into ES required format\n",
    "def es_format(data):\n",
    "    for record in data:\n",
    "        yield {\n",
    "            \"_index\": index,\n",
    "            \"_id\": record['imdb_title_id'],\n",
    "            \"_source\": {\n",
    "                \"title\": record['title'],\n",
    "                \"releaseYear\": record['year'],\n",
    "                \"language\": record['language'],\n",
    "                \"genre\": record['genre'],\n",
    "                \"country\": record['country'],\n",
    "                \"score\": record['avg_vote']\n",
    "            }\n",
    "        }"
   ]
  },
  {
   "cell_type": "code",
   "execution_count": 22,
   "id": "5a86ebba-fd3b-4501-b842-c3d18201f724",
   "metadata": {},
   "outputs": [
    {
     "name": "stdout",
     "output_type": "stream",
     "text": [
      "{\n",
      "  \"movies_engine\": {\n",
      "    \"mappings\": {\n",
      "      \"properties\": {\n",
      "        \"country\": {\n",
      "          \"type\": \"text\",\n",
      "          \"fields\": {\n",
      "            \"keyword\": {\n",
      "              \"type\": \"keyword\",\n",
      "              \"ignore_above\": 256\n",
      "            }\n",
      "          }\n",
      "        },\n",
      "        \"genre\": {\n",
      "          \"type\": \"text\",\n",
      "          \"analyzer\": \"standard\"\n",
      "        },\n",
      "        \"language\": {\n",
      "          \"type\": \"text\",\n",
      "          \"fields\": {\n",
      "            \"keyword\": {\n",
      "              \"type\": \"keyword\",\n",
      "              \"ignore_above\": 256\n",
      "            }\n",
      "          }\n",
      "        },\n",
      "        \"releaseYear\": {\n",
      "          \"type\": \"date\",\n",
      "          \"format\": \"yyyy\"\n",
      "        },\n",
      "        \"score\": {\n",
      "          \"type\": \"byte\"\n",
      "        },\n",
      "        \"title\": {\n",
      "          \"type\": \"text\",\n",
      "          \"analyzer\": \"title_tokenizer\"\n",
      "        }\n",
      "      }\n",
      "    }\n",
      "  }\n",
      "}\n"
     ]
    }
   ],
   "source": [
    "setting = {\n",
    "    \"number_of_shards\": 1,\n",
    "    \"number_of_replicas\": 0,\n",
    "    'analysis': {\n",
    "        \n",
    "        \"filter\":{\n",
    "            \"title_synonym\": {\n",
    "                \"type\": \"synonym\",\n",
    "                \"synonyms\": [\n",
    "                    \"inception => dream\"\n",
    "                ]\n",
    "            }\n",
    "        },\n",
    "        \n",
    "        \"tokenizer\": {\n",
    "            \"my_tokenizer\": {\n",
    "                \"type\": \"edge_ngram\",\n",
    "                \"min_gram\": 2,\n",
    "                \"max_gram\": 8,\n",
    "                \"token_chars\": [\"letter\", \"digit\"]\n",
    "            }\n",
    "        },\n",
    "        \n",
    "        'analyzer': {\n",
    "            'title_tokenizer': {\n",
    "                'type': 'custom',\n",
    "                'tokenizer': 'my_tokenizer',\n",
    "                \"filter\": [\n",
    "                    \"lowercase\",\n",
    "                    \"title_synonym\"\n",
    "                ]\n",
    "            },\n",
    "            \n",
    "        },\n",
    "        \n",
    "    }\n",
    "}\n",
    "\n",
    "mapping = {\n",
    "    \"properties\": {\n",
    "        \"releaseYear\": {\n",
    "            \"type\": \"date\",\n",
    "            \"format\": \"yyyy\"\n",
    "        },\n",
    "        \"title\": {\n",
    "            \"type\": \"text\",\n",
    "            \"analyzer\": \"title_tokenizer\"\n",
    "        },\n",
    "        \"genre\": {\n",
    "            \"type\": \"text\",\n",
    "            \"analyzer\": \"standard\"\n",
    "        },\n",
    "        \"score\": {\n",
    "            \"type\": \"byte\"\n",
    "        }\n",
    "    }\n",
    "}\n",
    "\n",
    "#es.indices.delete(index=name, ignore=[400,404])\n",
    "if not es.indices.exists(index=index):\n",
    "    es.indices.create(index=index,settings=setting, mappings=mapping, ignore=400)\n",
    "    helpers.bulk(es, es_format(json_df), ignore=[400,404])\n",
    "else: # If index is present, then checking existing mappings\n",
    "    print(json.dumps(es.indices.get_mapping(index=index), indent=2))"
   ]
  },
  {
   "cell_type": "code",
   "execution_count": 23,
   "id": "f1c2a5b9-2e1b-4a6a-bcd8-fa389565d76f",
   "metadata": {},
   "outputs": [],
   "source": [
    "def search(movie_name, bool_body):\n",
    "    querry_body = {\n",
    "        \"bool\": bool_body\n",
    "    }\n",
    "    \n",
    "    suggestion_body = {\n",
    "        \"my_suggestion\": {\n",
    "            \"text\": movie_name,\n",
    "            \"term\": {\n",
    "                \"field\": \"title\"\n",
    "            }\n",
    "        }\n",
    "    }\n",
    "    \n",
    "    return es.search(index='movies_engine', query=querry_body, suggest=suggestion_body,\n",
    "                     size=10, ignore=[400])"
   ]
  },
  {
   "cell_type": "code",
   "execution_count": 26,
   "id": "7c9cd427-5e53-40c7-9a2d-0b0ab0571432",
   "metadata": {},
   "outputs": [],
   "source": [
    "def print_movies(data):\n",
    "    print(\"{0:^40} | {1:^8} | {2:^8} | {3:^37} | {4:^30}\".format(\"Title\", \"Year\", \"Rating\", \"Genre\", \"Language\", \"Rating\"))\n",
    "    print(\"-\"*130)\n",
    "    for obj in data['hits']['hit']:\n",
    "        print(\"{title:<40} | {releaseYear:^8} | {score:^8} | {genre:^37} | {language:^30}\".format(**obj['_source']))"
   ]
  },
  {
   "cell_type": "code",
   "execution_count": 27,
   "id": "74967a64-825e-49c3-9b15-c6753c17126f",
   "metadata": {},
   "outputs": [],
   "source": [
    "def filtered_movies(genre, rating, movie_name):\n",
    "    #Boolean querry body\n",
    "    movie_filter = {\n",
    "            \"must\": [\n",
    "                {\n",
    "                    \"match\": {\n",
    "                        \"title\": {\n",
    "                            \"query\": movie_name\n",
    "                        }\n",
    "                    }\n",
    "                }\n",
    "            ],\n",
    "            \"filter\": [],\n",
    "            \"should\": [\n",
    "                {\n",
    "                    \"match_phrase\": {\n",
    "                        \"title\": {\n",
    "                            \"query\": movie_name,\n",
    "                            \"slop\": 2\n",
    "                        }\n",
    "                    }\n",
    "                }\n",
    "            ]\n",
    "        }\n",
    "    \n",
    "    \n",
    "    if len(movie_name) == 0:\n",
    "        print(\"Search something to see results\")\n",
    "    else:\n",
    "        \n",
    "        if genre != 'Any':\n",
    "            movie_filter['filter'].append({\"match\": {\"genre\": genre}})\n",
    "        \n",
    "        if rating != 0:\n",
    "            movie_filter['filter'].append({\"range\": {\"score\": { \"gte\": rating }}})\n",
    "            \n",
    "        result = search(movie_name, movie_filter)\n",
    "        print_movies(result)"
   ]
  },
  {
   "cell_type": "code",
   "execution_count": 30,
   "id": "9b9f35cd-14bb-4e8d-b7e6-beab723158d2",
   "metadata": {},
   "outputs": [
    {
     "data": {
      "application/vnd.jupyter.widget-view+json": {
       "model_id": "95d8033f911d43d7a994983bc3fb8963",
       "version_major": 2,
       "version_minor": 0
      },
      "text/plain": [
       "interactive(children=(Dropdown(description='genre', options=('Action', 'Adventure', 'Animation', 'Any', 'Biogr…"
      ]
     },
     "metadata": {},
     "output_type": "display_data"
    }
   ],
   "source": [
    "# selected_genre = widgets.Dropdown(options=genre, value='Any', description='Genre')\n",
    "# display(selected_genre)\n",
    "interact(filtered_movies, \n",
    "         genre=genre,\n",
    "         rating=widgets.IntSlider(min=0, max=10, value=0, step=1), \n",
    "         movie_name='',\n",
    "        );"
   ]
  },
  {
   "cell_type": "code",
   "execution_count": null,
   "id": "e6240eb1-0bd0-494a-ab32-2cefdcd71993",
   "metadata": {},
   "outputs": [],
   "source": []
  }
 ],
 "metadata": {
  "kernelspec": {
   "display_name": "Python 3 (ipykernel)",
   "language": "python",
   "name": "python3"
  },
  "language_info": {
   "codemirror_mode": {
    "name": "ipython",
    "version": 3
   },
   "file_extension": ".py",
   "mimetype": "text/x-python",
   "name": "python",
   "nbconvert_exporter": "python",
   "pygments_lexer": "ipython3",
   "version": "3.9.12"
  }
 },
 "nbformat": 4,
 "nbformat_minor": 5
}
